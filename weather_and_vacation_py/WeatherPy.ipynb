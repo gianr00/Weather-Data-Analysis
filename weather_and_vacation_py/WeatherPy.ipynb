{
 "cells": [
  {
   "cell_type": "markdown",
   "metadata": {},
   "source": [
    "# WeatherPy\n",
    "----\n",
    "\n",
    "#### Note\n",
    "* Instructions have been included for each segment. You do not have to follow them exactly, but they are included to help you think through the steps."
   ]
  },
  {
   "cell_type": "markdown",
   "metadata": {},
   "source": [
    "## Observable Trends from analysis results:\n",
    "1.\tBased on the data collected for the cities used in this analysis, it is showing that there is a correlation between the latitude and max temperature for cities in northern and southern hemisphere. The data shows a negative linear regression in the cities located in northern hemisphere and positive linear regression in the cities located in southern hemisphere. Both linear regressions indicate the farther the location of the city from the equator (0 latitude), the temperature goes down thus indicating the cities that are farther from the equator has colder temperature.\n",
    "\n",
    "2.\tThe data points between the humidity vs latitude for cities in northern and southern hemisphere are spread out thus indicating that the city’s distance from the equator doesn’t influence the humidity. Similar trends are also showing in the analysis result for cloudiness vs latitude and wind speed vs latitude.\n",
    "\n",
    "3.\tThe number of cities used in this analysis are not equally distributed between the cities in northern vs southern hemisphere. The are more cities located in northern hemisphere compared to the cities located in southern hemisphere. With uneven cities distributions used in this analysis,  the result is showing that this distribution doesn’t influence the obvious trend that the farther the city from the equator the colder the temperature is. It is also showing that the location and distance of the city from the equator doesn’t impact the humidity, cloudiness and wind speed.\n",
    "\n",
    "By: Rosie Gianan"
   ]
  },
  {
   "cell_type": "code",
   "execution_count": 1,
   "metadata": {},
   "outputs": [],
   "source": [
    "#pip install citipy"
   ]
  },
  {
   "cell_type": "code",
   "execution_count": 2,
   "metadata": {
    "scrolled": true
   },
   "outputs": [],
   "source": [
    "# Dependencies and Setup\n",
    "import matplotlib.pyplot as plt\n",
    "import pandas as pd\n",
    "import numpy as np\n",
    "import requests\n",
    "import time\n",
    "from scipy.stats import linregress\n",
    "\n",
    "import json\n",
    "import csv\n",
    "import os\n",
    "from datetime import datetime, timedelta\n",
    "\n",
    "# Import API key\n",
    "from api_keys import weather_api_key\n",
    "\n",
    "# Incorporated citipy to determine city based on latitude and longitude\n",
    "from citipy import citipy\n",
    "\n",
    "# Output File (CSV)\n",
    "output_data_file = \"../output_data/cities.csv\"\n",
    "\n",
    "# Range of latitudes and longitudes\n",
    "lat_range = (-90, 90)\n",
    "lng_range = (-180, 180)"
   ]
  },
  {
   "cell_type": "markdown",
   "metadata": {},
   "source": [
    "## Generate Cities List"
   ]
  },
  {
   "cell_type": "code",
   "execution_count": 3,
   "metadata": {},
   "outputs": [
    {
     "data": {
      "text/plain": [
       "595"
      ]
     },
     "execution_count": 3,
     "metadata": {},
     "output_type": "execute_result"
    }
   ],
   "source": [
    "## Create a list of cities for a set of random latitude and longtitude\n",
    "\n",
    "# List for holding lat_lngs and cities\n",
    "lat_lngs = []\n",
    "cities = []\n",
    "\n",
    "# Create a set of random lat and lng combinations\n",
    "lats = np.random.uniform(lat_range[0], lat_range[1], size=1500)\n",
    "lngs = np.random.uniform(lng_range[0], lng_range[1], size=1500)\n",
    "lat_lngs = zip(lats, lngs)\n",
    "\n",
    "# Identify nearest city for each lat, lng combination\n",
    "for lat_lng in lat_lngs:\n",
    "    city = citipy.nearest_city(lat_lng[0], lat_lng[1]).city_name\n",
    "    \n",
    "    # If the city is unique, then add it to a our cities list\n",
    "    if city not in cities:\n",
    "        cities.append(city)\n",
    "\n",
    "# Print the city count to confirm sufficient count\n",
    "len(cities)"
   ]
  },
  {
   "cell_type": "markdown",
   "metadata": {},
   "source": [
    "### Perform API Calls\n",
    "* Perform a weather check on each city using a series of successive API calls.\n",
    "* Include a print log of each city as it'sbeing processed (with the city number and city name).\n"
   ]
  },
  {
   "cell_type": "code",
   "execution_count": 4,
   "metadata": {
    "scrolled": false
   },
   "outputs": [
    {
     "name": "stdout",
     "output_type": "stream",
     "text": [
      "Beginning Data Retrieval\n",
      "-----------------------------\n",
      "Processing Record 0 of Set 1 | pevek\n",
      "Processing Record 1 of Set 1 | kodiak\n",
      "Processing Record 2 of Set 1 | atuona\n",
      "Processing Record 3 of Set 1 | hermanus\n",
      "Processing Record 4 of Set 1 | qaanaaq\n",
      "Processing Record 5 of Set 1 | vaini\n",
      "Processing Record 6 of Set 1 | mataura\n",
      "Processing Record 7 of Set 1 | hasaki\n",
      "Processing Record 8 of Set 1 | ushuaia\n",
      "City mrirt not found. Skipping...\n",
      "Processing Record 9 of Set 1 | morden\n",
      "Processing Record 10 of Set 1 | flin flon\n",
      "Processing Record 11 of Set 1 | katobu\n",
      "Processing Record 12 of Set 1 | port elizabeth\n",
      "Processing Record 13 of Set 1 | klaeng\n",
      "Processing Record 14 of Set 1 | olga\n",
      "Processing Record 15 of Set 1 | ilulissat\n",
      "Processing Record 16 of Set 1 | buraydah\n",
      "Processing Record 17 of Set 1 | goundam\n",
      "Processing Record 18 of Set 1 | dongsheng\n",
      "Processing Record 19 of Set 1 | hobart\n",
      "Processing Record 20 of Set 1 | hofn\n",
      "Processing Record 21 of Set 1 | hilo\n",
      "Processing Record 22 of Set 1 | puerto baquerizo moreno\n",
      "Processing Record 23 of Set 1 | punta arenas\n",
      "Processing Record 24 of Set 1 | butaritari\n",
      "Processing Record 25 of Set 1 | cherskiy\n",
      "Processing Record 26 of Set 1 | padang\n",
      "Processing Record 27 of Set 1 | port alfred\n",
      "Processing Record 28 of Set 1 | nanortalik\n",
      "Processing Record 29 of Set 1 | suwannaphum\n",
      "Processing Record 30 of Set 1 | castro\n",
      "Processing Record 31 of Set 1 | bredasdorp\n",
      "Processing Record 32 of Set 1 | puerto ayora\n",
      "Processing Record 33 of Set 1 | ostrovnoy\n",
      "City taolanaro not found. Skipping...\n",
      "Processing Record 34 of Set 1 | narasapur\n",
      "Processing Record 35 of Set 1 | durgapur\n",
      "Processing Record 36 of Set 1 | ribeira grande\n",
      "Processing Record 37 of Set 1 | college\n",
      "Processing Record 38 of Set 1 | mongo\n",
      "Processing Record 39 of Set 1 | itupiranga\n",
      "Processing Record 40 of Set 1 | togur\n",
      "Processing Record 41 of Set 1 | mar del plata\n",
      "Processing Record 42 of Set 1 | komsomolskiy\n",
      "City atka not found. Skipping...\n",
      "City illoqqortoormiut not found. Skipping...\n",
      "City belushya guba not found. Skipping...\n",
      "Processing Record 43 of Set 1 | cabo san lucas\n",
      "Processing Record 44 of Set 1 | thompson\n",
      "Processing Record 45 of Set 1 | waipawa\n",
      "Processing Record 46 of Set 1 | kavieng\n",
      "Processing Record 47 of Set 1 | georgetown\n",
      "Processing Record 48 of Set 1 | port hedland\n",
      "Processing Record 49 of Set 1 | lebu\n",
      "Processing Record 0 of Set 2 | turukhansk\n",
      "City phrai bung not found. Skipping...\n",
      "Processing Record 1 of Set 2 | dikson\n",
      "Processing Record 2 of Set 2 | tuatapere\n",
      "City ambodifototra not found. Skipping...\n",
      "Processing Record 3 of Set 2 | albany\n",
      "Processing Record 4 of Set 2 | cairns\n",
      "Processing Record 5 of Set 2 | haines junction\n",
      "Processing Record 6 of Set 2 | segovia\n",
      "Processing Record 7 of Set 2 | pak phanang\n",
      "Processing Record 8 of Set 2 | rikitea\n",
      "Processing Record 9 of Set 2 | marzuq\n",
      "Processing Record 10 of Set 2 | busselton\n",
      "Processing Record 11 of Set 2 | upernavik\n",
      "City rungata not found. Skipping...\n",
      "Processing Record 12 of Set 2 | kyaikto\n",
      "Processing Record 13 of Set 2 | ponta delgada\n",
      "Processing Record 14 of Set 2 | torbay\n",
      "Processing Record 15 of Set 2 | sao joao da barra\n",
      "Processing Record 16 of Set 2 | sinnamary\n",
      "Processing Record 17 of Set 2 | sorland\n",
      "Processing Record 18 of Set 2 | springdale\n",
      "Processing Record 19 of Set 2 | paamiut\n",
      "Processing Record 20 of Set 2 | cidreira\n",
      "Processing Record 21 of Set 2 | airai\n",
      "Processing Record 22 of Set 2 | tongliao\n",
      "Processing Record 23 of Set 2 | yeppoon\n",
      "Processing Record 24 of Set 2 | wamba\n",
      "Processing Record 25 of Set 2 | acapulco\n",
      "Processing Record 26 of Set 2 | tarakan\n",
      "Processing Record 27 of Set 2 | nikolskoye\n",
      "Processing Record 28 of Set 2 | east london\n",
      "Processing Record 29 of Set 2 | chokurdakh\n",
      "Processing Record 30 of Set 2 | arcata\n",
      "Processing Record 31 of Set 2 | winnemucca\n",
      "Processing Record 32 of Set 2 | parasia\n",
      "Processing Record 33 of Set 2 | jiuquan\n",
      "Processing Record 34 of Set 2 | derzhavinsk\n",
      "Processing Record 35 of Set 2 | lingyuan\n",
      "Processing Record 36 of Set 2 | glenwood springs\n",
      "Processing Record 37 of Set 2 | arraial do cabo\n",
      "Processing Record 38 of Set 2 | bengkulu\n",
      "Processing Record 39 of Set 2 | barcanesti\n",
      "Processing Record 40 of Set 2 | khatanga\n",
      "Processing Record 41 of Set 2 | cape town\n",
      "Processing Record 42 of Set 2 | kapaa\n",
      "Processing Record 43 of Set 2 | teya\n",
      "Processing Record 44 of Set 2 | mingguang\n",
      "Processing Record 45 of Set 2 | gat\n",
      "City araguatins not found. Skipping...\n",
      "Processing Record 46 of Set 2 | strezhevoy\n",
      "Processing Record 47 of Set 2 | leningradskiy\n",
      "Processing Record 48 of Set 2 | barrow\n",
      "City bolungarvik not found. Skipping...\n",
      "City barentsburg not found. Skipping...\n",
      "Processing Record 49 of Set 2 | caravelas\n",
      "Processing Record 0 of Set 3 | chuy\n",
      "Processing Record 1 of Set 3 | shitanjing\n",
      "Processing Record 2 of Set 3 | hithadhoo\n",
      "City attawapiskat not found. Skipping...\n",
      "Processing Record 3 of Set 3 | longyearbyen\n",
      "Processing Record 4 of Set 3 | esperance\n",
      "Processing Record 5 of Set 3 | amot\n",
      "Processing Record 6 of Set 3 | tiznit\n",
      "Processing Record 7 of Set 3 | mwinilunga\n",
      "City haibowan not found. Skipping...\n",
      "Processing Record 8 of Set 3 | san patricio\n",
      "Processing Record 9 of Set 3 | saint-philippe\n",
      "Processing Record 10 of Set 3 | rostovka\n",
      "Processing Record 11 of Set 3 | tezu\n",
      "Processing Record 12 of Set 3 | bethel\n",
      "City warqla not found. Skipping...\n",
      "Processing Record 13 of Set 3 | reykjavik\n",
      "Processing Record 14 of Set 3 | dong hoi\n",
      "Processing Record 15 of Set 3 | te anau\n",
      "Processing Record 16 of Set 3 | sisimiut\n",
      "Processing Record 17 of Set 3 | payakumbuh\n",
      "Processing Record 18 of Set 3 | caceres\n",
      "Processing Record 19 of Set 3 | iqaluit\n",
      "City yanchukan not found. Skipping...\n",
      "Processing Record 20 of Set 3 | bathsheba\n",
      "Processing Record 21 of Set 3 | tasiilaq\n",
      "Processing Record 22 of Set 3 | laredo\n",
      "Processing Record 23 of Set 3 | tuktoyaktuk\n",
      "Processing Record 24 of Set 3 | jamestown\n",
      "City mys shmidta not found. Skipping...\n",
      "Processing Record 25 of Set 3 | lagoa vermelha\n",
      "City palabuhanratu not found. Skipping...\n",
      "Processing Record 26 of Set 3 | guerrero negro\n",
      "Processing Record 27 of Set 3 | lasa\n",
      "Processing Record 28 of Set 3 | aklavik\n",
      "Processing Record 29 of Set 3 | ilebo\n",
      "Processing Record 30 of Set 3 | avera\n",
      "Processing Record 31 of Set 3 | xai-xai\n",
      "City tabukiniberu not found. Skipping...\n",
      "Processing Record 32 of Set 3 | constitucion\n",
      "Processing Record 33 of Set 3 | coquimbo\n",
      "Processing Record 34 of Set 3 | huarmey\n",
      "Processing Record 35 of Set 3 | funtua\n",
      "Processing Record 36 of Set 3 | shalya\n",
      "Processing Record 37 of Set 3 | rorvik\n",
      "City tsihombe not found. Skipping...\n",
      "Processing Record 38 of Set 3 | hamilton\n",
      "Processing Record 39 of Set 3 | narsaq\n",
      "Processing Record 40 of Set 3 | khiri mat\n",
      "Processing Record 41 of Set 3 | loa janan\n",
      "City rawannawi not found. Skipping...\n",
      "Processing Record 42 of Set 3 | korla\n",
      "Processing Record 43 of Set 3 | prado\n",
      "Processing Record 44 of Set 3 | ossora\n",
      "Processing Record 45 of Set 3 | trairi\n",
      "Processing Record 46 of Set 3 | mocuba\n",
      "City bolshiye berezniki not found. Skipping...\n",
      "Processing Record 47 of Set 3 | jimenez\n",
      "Processing Record 48 of Set 3 | twin falls\n",
      "City sentyabrskiy not found. Skipping...\n",
      "Processing Record 49 of Set 3 | ankang\n",
      "Processing Record 0 of Set 4 | fortuna\n",
      "Processing Record 1 of Set 4 | beyneu\n",
      "Processing Record 2 of Set 4 | itaporanga\n",
      "Processing Record 3 of Set 4 | lock haven\n",
      "City samusu not found. Skipping...\n",
      "Processing Record 4 of Set 4 | lipari\n",
      "Processing Record 5 of Set 4 | leh\n",
      "Processing Record 6 of Set 4 | bluff\n",
      "Processing Record 7 of Set 4 | la rioja\n",
      "Processing Record 8 of Set 4 | lagoa\n",
      "Processing Record 9 of Set 4 | uige\n",
      "Processing Record 10 of Set 4 | labytnangi\n",
      "Processing Record 11 of Set 4 | roald\n",
      "Processing Record 12 of Set 4 | victoria\n",
      "Processing Record 13 of Set 4 | brandon\n",
      "Processing Record 14 of Set 4 | asau\n",
      "Processing Record 15 of Set 4 | antigonish\n",
      "Processing Record 16 of Set 4 | sao filipe\n",
      "Processing Record 17 of Set 4 | konevo\n",
      "Processing Record 18 of Set 4 | reconquista\n",
      "Processing Record 19 of Set 4 | opuwo\n",
      "City vaitupu not found. Skipping...\n",
      "Processing Record 20 of Set 4 | wanning\n",
      "City karaul not found. Skipping...\n",
      "Processing Record 21 of Set 4 | nioro\n",
      "City chagda not found. Skipping...\n",
      "Processing Record 22 of Set 4 | westlock\n",
      "Processing Record 23 of Set 4 | manali\n",
      "Processing Record 24 of Set 4 | klyuchi\n"
     ]
    },
    {
     "name": "stdout",
     "output_type": "stream",
     "text": [
      "Processing Record 25 of Set 4 | suntar\n",
      "Processing Record 26 of Set 4 | nara\n",
      "Processing Record 27 of Set 4 | kaitangata\n",
      "Processing Record 28 of Set 4 | hermiston\n",
      "Processing Record 29 of Set 4 | iquitos\n",
      "Processing Record 30 of Set 4 | new norfolk\n",
      "City lolua not found. Skipping...\n",
      "Processing Record 31 of Set 4 | the valley\n",
      "Processing Record 32 of Set 4 | esmeraldas\n",
      "Processing Record 33 of Set 4 | camana\n",
      "Processing Record 34 of Set 4 | youkounkoun\n",
      "Processing Record 35 of Set 4 | thenzawl\n",
      "Processing Record 36 of Set 4 | horodyshche\n",
      "Processing Record 37 of Set 4 | savinskiy\n",
      "Processing Record 38 of Set 4 | aban\n",
      "Processing Record 39 of Set 4 | ketchikan\n",
      "City axixa do tocantins not found. Skipping...\n",
      "Processing Record 40 of Set 4 | sunndalsora\n",
      "Processing Record 41 of Set 4 | avarua\n",
      "Processing Record 42 of Set 4 | notse\n",
      "Processing Record 43 of Set 4 | lavrentiya\n",
      "Processing Record 44 of Set 4 | yellowknife\n",
      "Processing Record 45 of Set 4 | anadyr\n",
      "Processing Record 46 of Set 4 | sitka\n",
      "Processing Record 47 of Set 4 | tadine\n",
      "Processing Record 48 of Set 4 | netanya\n",
      "Processing Record 49 of Set 4 | amga\n",
      "Processing Record 0 of Set 5 | kavaratti\n",
      "City bokspits not found. Skipping...\n",
      "Processing Record 1 of Set 5 | adrar\n",
      "Processing Record 2 of Set 5 | geraldton\n",
      "Processing Record 3 of Set 5 | honggang\n",
      "Processing Record 4 of Set 5 | oranjemund\n",
      "Processing Record 5 of Set 5 | teguise\n",
      "Processing Record 6 of Set 5 | mazyr\n",
      "Processing Record 7 of Set 5 | misratah\n",
      "Processing Record 8 of Set 5 | sao borja\n",
      "Processing Record 9 of Set 5 | berlevag\n",
      "Processing Record 10 of Set 5 | koumac\n",
      "Processing Record 11 of Set 5 | kruisfontein\n",
      "Processing Record 12 of Set 5 | kiruna\n",
      "Processing Record 13 of Set 5 | moa\n",
      "Processing Record 14 of Set 5 | severo-kurilsk\n",
      "Processing Record 15 of Set 5 | vestmannaeyjar\n",
      "Processing Record 16 of Set 5 | malkerns\n",
      "Processing Record 17 of Set 5 | santa marta\n",
      "Processing Record 18 of Set 5 | lucea\n",
      "Processing Record 19 of Set 5 | aksarka\n",
      "Processing Record 20 of Set 5 | kieta\n",
      "Processing Record 21 of Set 5 | rundu\n",
      "Processing Record 22 of Set 5 | kargasok\n",
      "Processing Record 23 of Set 5 | fort nelson\n",
      "Processing Record 24 of Set 5 | finschhafen\n",
      "Processing Record 25 of Set 5 | aldan\n",
      "Processing Record 26 of Set 5 | olinda\n",
      "Processing Record 27 of Set 5 | bambous virieux\n",
      "Processing Record 28 of Set 5 | jacareacanga\n",
      "Processing Record 29 of Set 5 | nizwa\n",
      "Processing Record 30 of Set 5 | batagay-alyta\n",
      "Processing Record 31 of Set 5 | saskylakh\n",
      "Processing Record 32 of Set 5 | chimbote\n",
      "Processing Record 33 of Set 5 | barra do garcas\n",
      "Processing Record 34 of Set 5 | ascension\n",
      "Processing Record 35 of Set 5 | pacific grove\n",
      "Processing Record 36 of Set 5 | moerai\n",
      "Processing Record 37 of Set 5 | tiksi\n",
      "Processing Record 38 of Set 5 | lichuan\n",
      "Processing Record 39 of Set 5 | shira\n",
      "Processing Record 40 of Set 5 | havre-saint-pierre\n",
      "City kegayli not found. Skipping...\n",
      "City katsiveli not found. Skipping...\n",
      "Processing Record 41 of Set 5 | aloleng\n",
      "Processing Record 42 of Set 5 | tibagi\n",
      "Processing Record 43 of Set 5 | mahebourg\n",
      "Processing Record 44 of Set 5 | hagerstown\n",
      "Processing Record 45 of Set 5 | serrana\n",
      "Processing Record 46 of Set 5 | nakapiripirit\n",
      "City kuche not found. Skipping...\n",
      "Processing Record 47 of Set 5 | barcelona\n",
      "Processing Record 48 of Set 5 | lahaina\n",
      "Processing Record 49 of Set 5 | pitimbu\n",
      "Processing Record 0 of Set 6 | goderich\n",
      "Processing Record 1 of Set 6 | faribault\n",
      "Processing Record 2 of Set 6 | soyo\n",
      "Processing Record 3 of Set 6 | touros\n",
      "Processing Record 4 of Set 6 | yumbe\n",
      "Processing Record 5 of Set 6 | ariquemes\n",
      "Processing Record 6 of Set 6 | maniitsoq\n",
      "Processing Record 7 of Set 6 | klaksvik\n",
      "Processing Record 8 of Set 6 | chimoio\n",
      "Processing Record 9 of Set 6 | tupik\n",
      "Processing Record 10 of Set 6 | makat\n",
      "City nizhneyansk not found. Skipping...\n",
      "Processing Record 11 of Set 6 | maragogi\n",
      "Processing Record 12 of Set 6 | khurda\n",
      "Processing Record 13 of Set 6 | cooma\n",
      "Processing Record 14 of Set 6 | grindavik\n",
      "Processing Record 15 of Set 6 | ixtapa\n",
      "Processing Record 16 of Set 6 | detchino\n",
      "Processing Record 17 of Set 6 | johi\n",
      "Processing Record 18 of Set 6 | norman wells\n",
      "Processing Record 19 of Set 6 | grand-santi\n",
      "Processing Record 20 of Set 6 | motygino\n",
      "Processing Record 21 of Set 6 | saldanha\n",
      "Processing Record 22 of Set 6 | krutaya gorka\n",
      "Processing Record 23 of Set 6 | palana\n",
      "City yeletskiy not found. Skipping...\n",
      "Processing Record 24 of Set 6 | norwich\n",
      "Processing Record 25 of Set 6 | dunedin\n",
      "Processing Record 26 of Set 6 | lompoc\n",
      "Processing Record 27 of Set 6 | buala\n",
      "Processing Record 28 of Set 6 | puerto colombia\n",
      "Processing Record 29 of Set 6 | lubango\n",
      "City grand river south east not found. Skipping...\n",
      "Processing Record 30 of Set 6 | tiarei\n",
      "Processing Record 31 of Set 6 | balykshi\n",
      "Processing Record 32 of Set 6 | saint-augustin\n",
      "Processing Record 33 of Set 6 | fort-shevchenko\n",
      "Processing Record 34 of Set 6 | durango\n",
      "Processing Record 35 of Set 6 | carnarvon\n",
      "Processing Record 36 of Set 6 | louga\n",
      "Processing Record 37 of Set 6 | hualmay\n",
      "Processing Record 38 of Set 6 | khash\n",
      "Processing Record 39 of Set 6 | necochea\n",
      "Processing Record 40 of Set 6 | kumasi\n",
      "Processing Record 41 of Set 6 | krasnoselkup\n",
      "Processing Record 42 of Set 6 | bilibino\n",
      "Processing Record 43 of Set 6 | mission\n",
      "Processing Record 44 of Set 6 | labuhan\n",
      "Processing Record 45 of Set 6 | suamico\n",
      "Processing Record 46 of Set 6 | samarai\n",
      "Processing Record 47 of Set 6 | laguna\n",
      "Processing Record 48 of Set 6 | linxia\n",
      "Processing Record 49 of Set 6 | kununurra\n",
      "Processing Record 0 of Set 7 | coihaique\n",
      "Processing Record 1 of Set 7 | ati\n",
      "Processing Record 2 of Set 7 | san sebastian villanueva\n",
      "Processing Record 3 of Set 7 | vestmanna\n",
      "Processing Record 4 of Set 7 | northam\n",
      "Processing Record 5 of Set 7 | codrington\n",
      "Processing Record 6 of Set 7 | neuquen\n",
      "Processing Record 7 of Set 7 | cayenne\n",
      "Processing Record 8 of Set 7 | beloha\n",
      "Processing Record 9 of Set 7 | vallenar\n",
      "Processing Record 10 of Set 7 | bud\n",
      "City marcona not found. Skipping...\n",
      "Processing Record 11 of Set 7 | muli\n",
      "Processing Record 12 of Set 7 | salalah\n",
      "Processing Record 13 of Set 7 | saint george\n",
      "Processing Record 14 of Set 7 | menongue\n",
      "Processing Record 15 of Set 7 | moose factory\n",
      "Processing Record 16 of Set 7 | rizhao\n",
      "Processing Record 17 of Set 7 | provideniya\n",
      "Processing Record 18 of Set 7 | khorixas\n",
      "Processing Record 19 of Set 7 | kysyl-syr\n",
      "Processing Record 20 of Set 7 | capaci\n",
      "Processing Record 21 of Set 7 | edd\n",
      "Processing Record 22 of Set 7 | luderitz\n",
      "Processing Record 23 of Set 7 | talnakh\n",
      "Processing Record 24 of Set 7 | katsuura\n",
      "Processing Record 25 of Set 7 | agarak\n",
      "Processing Record 26 of Set 7 | koryukivka\n",
      "Processing Record 27 of Set 7 | presidente medici\n",
      "Processing Record 28 of Set 7 | yerbogachen\n",
      "Processing Record 29 of Set 7 | rawson\n",
      "Processing Record 30 of Set 7 | harper\n",
      "Processing Record 31 of Set 7 | gwadar\n",
      "Processing Record 32 of Set 7 | castlerea\n",
      "Processing Record 33 of Set 7 | beringovskiy\n",
      "Processing Record 34 of Set 7 | yar-sale\n",
      "Processing Record 35 of Set 7 | luganville\n",
      "Processing Record 36 of Set 7 | shache\n",
      "Processing Record 37 of Set 7 | karaton\n",
      "Processing Record 38 of Set 7 | chernyshevskiy\n",
      "Processing Record 39 of Set 7 | egvekinot\n",
      "Processing Record 40 of Set 7 | taltal\n",
      "Processing Record 41 of Set 7 | kathmandu\n",
      "Processing Record 42 of Set 7 | sabratah\n",
      "Processing Record 43 of Set 7 | limbang\n",
      "Processing Record 44 of Set 7 | inirida\n",
      "Processing Record 45 of Set 7 | vao\n",
      "Processing Record 46 of Set 7 | quatre cocos\n",
      "Processing Record 47 of Set 7 | bjerringbro\n",
      "Processing Record 48 of Set 7 | ewa beach\n",
      "Processing Record 49 of Set 7 | angoche\n",
      "City amderma not found. Skipping...\n",
      "Processing Record 0 of Set 8 | kunri\n",
      "Processing Record 1 of Set 8 | kutum\n",
      "Processing Record 2 of Set 8 | baoding\n",
      "Processing Record 3 of Set 8 | loei\n",
      "Processing Record 4 of Set 8 | rocha\n",
      "City kamenskoye not found. Skipping...\n",
      "Processing Record 5 of Set 8 | brae\n",
      "Processing Record 6 of Set 8 | marrakesh\n",
      "Processing Record 7 of Set 8 | ramsar\n",
      "Processing Record 8 of Set 8 | santa rosa\n",
      "Processing Record 9 of Set 8 | singkawang\n",
      "Processing Record 10 of Set 8 | thinadhoo\n",
      "Processing Record 11 of Set 8 | acarau\n",
      "City mendahara not found. Skipping...\n",
      "Processing Record 12 of Set 8 | faanui\n",
      "Processing Record 13 of Set 8 | yenagoa\n"
     ]
    },
    {
     "name": "stdout",
     "output_type": "stream",
     "text": [
      "Processing Record 14 of Set 8 | lerwick\n",
      "Processing Record 15 of Set 8 | zhuhai\n",
      "Processing Record 16 of Set 8 | buta\n",
      "Processing Record 17 of Set 8 | mehamn\n",
      "Processing Record 18 of Set 8 | nuristan\n",
      "Processing Record 19 of Set 8 | kalmunai\n",
      "Processing Record 20 of Set 8 | vredefort\n",
      "Processing Record 21 of Set 8 | suici\n",
      "Processing Record 22 of Set 8 | dourados\n",
      "Processing Record 23 of Set 8 | antofagasta\n",
      "Processing Record 24 of Set 8 | astara\n",
      "Processing Record 25 of Set 8 | kralendijk\n",
      "Processing Record 26 of Set 8 | savannah bight\n",
      "Processing Record 27 of Set 8 | mount gambier\n",
      "Processing Record 28 of Set 8 | road town\n",
      "Processing Record 29 of Set 8 | tabuleiro do norte\n",
      "Processing Record 30 of Set 8 | zima\n",
      "Processing Record 31 of Set 8 | clyde river\n",
      "Processing Record 32 of Set 8 | ponta do sol\n",
      "Processing Record 33 of Set 8 | tanout\n",
      "Processing Record 34 of Set 8 | panjab\n",
      "Processing Record 35 of Set 8 | teahupoo\n",
      "Processing Record 36 of Set 8 | tarancon\n",
      "Processing Record 37 of Set 8 | ola\n",
      "Processing Record 38 of Set 8 | petatlan\n",
      "Processing Record 39 of Set 8 | nikolayevka\n",
      "Processing Record 40 of Set 8 | isangel\n",
      "Processing Record 41 of Set 8 | bull savanna\n",
      "Processing Record 42 of Set 8 | vila franca do campo\n",
      "Processing Record 43 of Set 8 | vardo\n",
      "Processing Record 44 of Set 8 | gemena\n",
      "Processing Record 45 of Set 8 | kudahuvadhoo\n",
      "Processing Record 46 of Set 8 | awjilah\n",
      "Processing Record 47 of Set 8 | bubaque\n",
      "Processing Record 48 of Set 8 | karapyshi\n",
      "Processing Record 49 of Set 8 | zhengjiatun\n",
      "Processing Record 0 of Set 9 | tupa\n",
      "Processing Record 1 of Set 9 | eureka\n",
      "Processing Record 2 of Set 9 | broken hill\n",
      "Processing Record 3 of Set 9 | ambilobe\n",
      "Processing Record 4 of Set 9 | souillac\n",
      "City taburi not found. Skipping...\n",
      "City burica not found. Skipping...\n",
      "Processing Record 5 of Set 9 | faya\n",
      "Processing Record 6 of Set 9 | waitati\n",
      "Processing Record 7 of Set 9 | yali\n",
      "Processing Record 8 of Set 9 | chicama\n",
      "Processing Record 9 of Set 9 | naze\n",
      "Processing Record 10 of Set 9 | nola\n",
      "Processing Record 11 of Set 9 | caarapo\n",
      "Processing Record 12 of Set 9 | vologda\n",
      "Processing Record 13 of Set 9 | velasco ibarra\n",
      "Processing Record 14 of Set 9 | ngunguru\n",
      "Processing Record 15 of Set 9 | bang len\n",
      "Processing Record 16 of Set 9 | oussouye\n",
      "Processing Record 17 of Set 9 | dhemaji\n",
      "Processing Record 18 of Set 9 | qasigiannguit\n",
      "Processing Record 19 of Set 9 | riyadh\n",
      "Processing Record 20 of Set 9 | poum\n",
      "Processing Record 21 of Set 9 | arlit\n",
      "City sidi qasim not found. Skipping...\n",
      "Processing Record 22 of Set 9 | deputatskiy\n",
      "Processing Record 23 of Set 9 | kasongo-lunda\n",
      "Processing Record 24 of Set 9 | kharp\n",
      "Processing Record 25 of Set 9 | shenjiamen\n",
      "Processing Record 26 of Set 9 | muros\n",
      "Processing Record 27 of Set 9 | serebryanyy bor\n",
      "Processing Record 28 of Set 9 | calafell\n",
      "Processing Record 29 of Set 9 | wonthaggi\n",
      "Processing Record 30 of Set 9 | amapa\n",
      "Processing Record 31 of Set 9 | emba\n",
      "Processing Record 32 of Set 9 | lac du bonnet\n",
      "Processing Record 33 of Set 9 | ukiah\n",
      "Processing Record 34 of Set 9 | namwala\n",
      "Processing Record 35 of Set 9 | paragominas\n",
      "Processing Record 36 of Set 9 | lamu\n",
      "Processing Record 37 of Set 9 | kloulklubed\n",
      "City sedelnikovo not found. Skipping...\n",
      "Processing Record 38 of Set 9 | talcahuano\n",
      "Processing Record 39 of Set 9 | high prairie\n",
      "Processing Record 40 of Set 9 | salym\n",
      "Processing Record 41 of Set 9 | havelock\n",
      "Processing Record 42 of Set 9 | bilma\n",
      "Processing Record 43 of Set 9 | yuncheng\n",
      "Processing Record 44 of Set 9 | los llanos de aridane\n",
      "City sorvag not found. Skipping...\n",
      "Processing Record 45 of Set 9 | pisco\n",
      "Processing Record 46 of Set 9 | miyako\n",
      "Processing Record 47 of Set 9 | westport\n",
      "Processing Record 48 of Set 9 | gwembe\n",
      "Processing Record 49 of Set 9 | port hardy\n",
      "Processing Record 0 of Set 10 | bogovarovo\n",
      "Processing Record 1 of Set 10 | abu samrah\n",
      "Processing Record 2 of Set 10 | wattegama\n",
      "Processing Record 3 of Set 10 | broome\n",
      "Processing Record 4 of Set 10 | mount isa\n",
      "Processing Record 5 of Set 10 | bafq\n",
      "Processing Record 6 of Set 10 | witu\n",
      "Processing Record 7 of Set 10 | blagoyevo\n",
      "Processing Record 8 of Set 10 | north battleford\n",
      "Processing Record 9 of Set 10 | nayoro\n",
      "Processing Record 10 of Set 10 | lauria\n",
      "Processing Record 11 of Set 10 | tura\n",
      "Processing Record 12 of Set 10 | alice springs\n",
      "Processing Record 13 of Set 10 | newport\n",
      "Processing Record 14 of Set 10 | hambantota\n",
      "Processing Record 15 of Set 10 | malakal\n",
      "Processing Record 16 of Set 10 | hammerfest\n",
      "Processing Record 17 of Set 10 | skibbereen\n",
      "Processing Record 18 of Set 10 | mari-turek\n",
      "Processing Record 19 of Set 10 | alofi\n",
      "Processing Record 20 of Set 10 | karratha\n",
      "City kerteh not found. Skipping...\n",
      "Processing Record 21 of Set 10 | canoa\n",
      "Processing Record 22 of Set 10 | kandrian\n",
      "Processing Record 23 of Set 10 | marsh harbour\n",
      "Processing Record 24 of Set 10 | sauda\n",
      "Processing Record 25 of Set 10 | miramar\n",
      "Processing Record 26 of Set 10 | porto santo\n",
      "Processing Record 27 of Set 10 | inhambane\n",
      "Processing Record 28 of Set 10 | seoul\n",
      "Processing Record 29 of Set 10 | killybegs\n",
      "Processing Record 30 of Set 10 | roma\n",
      "Processing Record 31 of Set 10 | salvador\n",
      "Processing Record 32 of Set 10 | vila velha\n",
      "Processing Record 33 of Set 10 | tombouctou\n",
      "Processing Record 34 of Set 10 | basse\n",
      "Processing Record 35 of Set 10 | hami\n",
      "Processing Record 36 of Set 10 | santiago de cao\n",
      "Processing Record 37 of Set 10 | kimbe\n",
      "Processing Record 38 of Set 10 | takoradi\n",
      "City mithimna not found. Skipping...\n",
      "Processing Record 39 of Set 10 | sept-iles\n",
      "Processing Record 40 of Set 10 | juneau\n",
      "Processing Record 41 of Set 10 | farsala\n",
      "City anar darreh not found. Skipping...\n",
      "Processing Record 42 of Set 10 | neryungri\n",
      "Processing Record 43 of Set 10 | darlawn\n",
      "Processing Record 44 of Set 10 | mankono\n",
      "Processing Record 45 of Set 10 | honiara\n",
      "City obluche not found. Skipping...\n",
      "Processing Record 46 of Set 10 | sevlievo\n",
      "Processing Record 47 of Set 10 | chilca\n",
      "Processing Record 48 of Set 10 | hirado\n",
      "Processing Record 49 of Set 10 | mayo\n",
      "Processing Record 0 of Set 11 | nacozari\n",
      "Processing Record 1 of Set 11 | antalaha\n",
      "Processing Record 2 of Set 11 | tabou\n",
      "Processing Record 3 of Set 11 | camopi\n",
      "Processing Record 4 of Set 11 | fukue\n",
      "Processing Record 5 of Set 11 | namibe\n",
      "Processing Record 6 of Set 11 | jinka\n",
      "Processing Record 7 of Set 11 | ballina\n",
      "Processing Record 8 of Set 11 | umm kaddadah\n",
      "Processing Record 9 of Set 11 | namatanai\n",
      "Processing Record 10 of Set 11 | erenhot\n",
      "Processing Record 11 of Set 11 | shizunai\n",
      "Processing Record 12 of Set 11 | xingcheng\n",
      "Processing Record 13 of Set 11 | manavalakurichi\n",
      "Processing Record 14 of Set 11 | yeban\n",
      "Processing Record 15 of Set 11 | getahovit\n",
      "Processing Record 16 of Set 11 | leopold\n",
      "Processing Record 17 of Set 11 | kamenka\n",
      "Processing Record 18 of Set 11 | griffith\n",
      "Processing Record 19 of Set 11 | glace bay\n",
      "Processing Record 20 of Set 11 | thio\n",
      "Processing Record 21 of Set 11 | krasnyy kut\n",
      "Processing Record 22 of Set 11 | matagami\n",
      "Processing Record 23 of Set 11 | tekeli\n",
      "Processing Record 24 of Set 11 | nabire\n",
      "Processing Record 25 of Set 11 | garmsar\n",
      "Processing Record 26 of Set 11 | mombaca\n",
      "Processing Record 27 of Set 11 | lovington\n",
      "Processing Record 28 of Set 11 | iskateley\n",
      "Processing Record 29 of Set 11 | duncan\n",
      "Processing Record 30 of Set 11 | kodar\n",
      "Processing Record 31 of Set 11 | camacha\n",
      "Processing Record 32 of Set 11 | machilipatnam\n",
      "Processing Record 33 of Set 11 | paramonga\n",
      "Processing Record 34 of Set 11 | tucuman\n",
      "Processing Record 35 of Set 11 | belmonte\n",
      "Processing Record 36 of Set 11 | svetlaya\n",
      "Processing Record 37 of Set 11 | kigoma\n",
      "Processing Record 38 of Set 11 | puerto escondido\n",
      "Processing Record 39 of Set 11 | belaya gora\n",
      "City saleaula not found. Skipping...\n",
      "Processing Record 40 of Set 11 | binga\n",
      "Processing Record 41 of Set 11 | churapcha\n",
      "Processing Record 42 of Set 11 | kalach-na-donu\n",
      "Processing Record 43 of Set 11 | port hueneme\n",
      "Processing Record 44 of Set 11 | parrita\n",
      "Processing Record 45 of Set 11 | guican\n",
      "----------------------------- Data Retrieval Complete -----------------------------\n",
      "===================================================================================\n",
      "Total number of cities processed: 546\n",
      "Total number of cities skipped  : 49\n",
      "===================================================================================\n"
     ]
    }
   ],
   "source": [
    "# set up lists to hold reponse info\n",
    "data_city_name       = []\n",
    "data_city_latitude   = []\n",
    "data_city_longitude  = []\n",
    "data_max_temperature = []\n",
    "data_humidity        = []\n",
    "data_cloud_coverage  = []\n",
    "data_wind_speed      = []\n",
    "data_city_country    = []\n",
    "data_city_datetime   = []\n",
    "\n",
    "# Create the city counter and record set counter\n",
    "city_ctr           = 0\n",
    "set_ctr            = 1\n",
    "city_processed_ctr = 0\n",
    "city_skipped_ctr   = 0\n",
    "\n",
    "# Build the base URL to request for weather data\n",
    "url      = \"http://api.openweathermap.org/data/2.5/weather?\"\n",
    "units    = \"imperial\"\n",
    "url_base = f\"{url}appid={weather_api_key}&units={units}&q=\"\n",
    "\n",
    "print (\"Beginning Data Retrieval\")     \n",
    "print (\"-----------------------------\")\n",
    "for city in cities:\n",
    "\n",
    "    # Assemble the url\n",
    "    url_city = url_base + city\n",
    "   \n",
    "    # Retrieve the API data and format it into JSON \n",
    "    response = requests.get(url_city)\n",
    "    \n",
    "    # Save the data of each city\n",
    "    response_json = response.json()\n",
    "    \n",
    "    try:\n",
    "        \n",
    "        # Pause for 60 seconds every 50 records processed\n",
    "        if city_ctr > 49: \n",
    "            city_ctr = 0\n",
    "            set_ctr +=1\n",
    "            time.sleep(60) \n",
    "            \n",
    "        data_city_name.append      (response_json['name']              )    \n",
    "        data_city_latitude.append  (response_json['coord'] ['lat']     )\n",
    "        data_city_longitude.append (response_json['coord'] ['lon']     )\n",
    "        data_max_temperature.append(response_json['main']  ['temp_max'])\n",
    "        data_humidity.append       (response_json['main']  ['humidity'])  \n",
    "        data_cloud_coverage.append (response_json['clouds']['all']     )  \n",
    "        data_wind_speed.append     (response_json['wind']  ['speed']   )\n",
    "        data_city_country.append   (response_json['sys']   ['country'] )   \n",
    "        data_city_datetime.append  (response_json['dt']                )\n",
    "        \n",
    "        print (f\"Processing Record {city_ctr} of Set {set_ctr} | {city}\")\n",
    "        \n",
    "        # Accumulate the processed counters\n",
    "        city_ctr += 1\n",
    "        city_processed_ctr += 1\n",
    "        \n",
    "    except (KeyError, IndexError):\n",
    "        \n",
    "        # Skip city without API data\n",
    "        print (f\"City {city} not found. Skipping...\")\n",
    "        city_skipped_ctr   += 1\n",
    "        \n",
    "print (\"----------------------------- Data Retrieval Complete -----------------------------\")       \n",
    "print (\"===================================================================================\")        \n",
    "print (f\"Total number of cities processed: {city_processed_ctr}\")\n",
    "print (f\"Total number of cities skipped  : {city_skipped_ctr}\")\n",
    "print (\"===================================================================================\")  "
   ]
  },
  {
   "cell_type": "markdown",
   "metadata": {},
   "source": [
    "### Convert Raw Data to DataFrame\n",
    "* Export the city data into a .csv.\n",
    "* Display the DataFrame"
   ]
  },
  {
   "cell_type": "code",
   "execution_count": 5,
   "metadata": {},
   "outputs": [
    {
     "data": {
      "text/html": [
       "<div>\n",
       "<style scoped>\n",
       "    .dataframe tbody tr th:only-of-type {\n",
       "        vertical-align: middle;\n",
       "    }\n",
       "\n",
       "    .dataframe tbody tr th {\n",
       "        vertical-align: top;\n",
       "    }\n",
       "\n",
       "    .dataframe thead th {\n",
       "        text-align: right;\n",
       "    }\n",
       "</style>\n",
       "<table border=\"1\" class=\"dataframe\">\n",
       "  <thead>\n",
       "    <tr style=\"text-align: right;\">\n",
       "      <th></th>\n",
       "      <th>City</th>\n",
       "      <th>City latitude</th>\n",
       "      <th>City longitude</th>\n",
       "      <th>Max temperature</th>\n",
       "      <th>Humidity</th>\n",
       "      <th>Cloud coverage</th>\n",
       "      <th>Wind speed</th>\n",
       "      <th>City country</th>\n",
       "      <th>City datetime</th>\n",
       "    </tr>\n",
       "    <tr>\n",
       "      <th>City_ID</th>\n",
       "      <th></th>\n",
       "      <th></th>\n",
       "      <th></th>\n",
       "      <th></th>\n",
       "      <th></th>\n",
       "      <th></th>\n",
       "      <th></th>\n",
       "      <th></th>\n",
       "      <th></th>\n",
       "    </tr>\n",
       "  </thead>\n",
       "  <tbody>\n",
       "    <tr>\n",
       "      <th>0</th>\n",
       "      <td>Pevek</td>\n",
       "      <td>69.7008</td>\n",
       "      <td>170.3133</td>\n",
       "      <td>48.78</td>\n",
       "      <td>64</td>\n",
       "      <td>0</td>\n",
       "      <td>12.59</td>\n",
       "      <td>RU</td>\n",
       "      <td>1659310108</td>\n",
       "    </tr>\n",
       "    <tr>\n",
       "      <th>1</th>\n",
       "      <td>Saint Paul Harbor</td>\n",
       "      <td>57.7900</td>\n",
       "      <td>-152.4072</td>\n",
       "      <td>62.11</td>\n",
       "      <td>72</td>\n",
       "      <td>100</td>\n",
       "      <td>5.75</td>\n",
       "      <td>US</td>\n",
       "      <td>1659310108</td>\n",
       "    </tr>\n",
       "    <tr>\n",
       "      <th>2</th>\n",
       "      <td>Atuona</td>\n",
       "      <td>-9.8000</td>\n",
       "      <td>-139.0333</td>\n",
       "      <td>76.87</td>\n",
       "      <td>75</td>\n",
       "      <td>12</td>\n",
       "      <td>14.50</td>\n",
       "      <td>PF</td>\n",
       "      <td>1659310108</td>\n",
       "    </tr>\n",
       "    <tr>\n",
       "      <th>3</th>\n",
       "      <td>Hermanus</td>\n",
       "      <td>-34.4187</td>\n",
       "      <td>19.2345</td>\n",
       "      <td>48.78</td>\n",
       "      <td>72</td>\n",
       "      <td>2</td>\n",
       "      <td>6.64</td>\n",
       "      <td>ZA</td>\n",
       "      <td>1659310109</td>\n",
       "    </tr>\n",
       "    <tr>\n",
       "      <th>4</th>\n",
       "      <td>Qaanaaq</td>\n",
       "      <td>77.4840</td>\n",
       "      <td>-69.3632</td>\n",
       "      <td>46.33</td>\n",
       "      <td>60</td>\n",
       "      <td>66</td>\n",
       "      <td>1.41</td>\n",
       "      <td>GL</td>\n",
       "      <td>1659310109</td>\n",
       "    </tr>\n",
       "    <tr>\n",
       "      <th>...</th>\n",
       "      <td>...</td>\n",
       "      <td>...</td>\n",
       "      <td>...</td>\n",
       "      <td>...</td>\n",
       "      <td>...</td>\n",
       "      <td>...</td>\n",
       "      <td>...</td>\n",
       "      <td>...</td>\n",
       "      <td>...</td>\n",
       "    </tr>\n",
       "    <tr>\n",
       "      <th>541</th>\n",
       "      <td>Churapcha</td>\n",
       "      <td>62.0025</td>\n",
       "      <td>132.4325</td>\n",
       "      <td>79.61</td>\n",
       "      <td>46</td>\n",
       "      <td>84</td>\n",
       "      <td>11.05</td>\n",
       "      <td>RU</td>\n",
       "      <td>1659310894</td>\n",
       "    </tr>\n",
       "    <tr>\n",
       "      <th>542</th>\n",
       "      <td>Kalach-na-Donu</td>\n",
       "      <td>48.6910</td>\n",
       "      <td>43.5264</td>\n",
       "      <td>71.44</td>\n",
       "      <td>63</td>\n",
       "      <td>29</td>\n",
       "      <td>7.65</td>\n",
       "      <td>RU</td>\n",
       "      <td>1659310895</td>\n",
       "    </tr>\n",
       "    <tr>\n",
       "      <th>543</th>\n",
       "      <td>Port Hueneme</td>\n",
       "      <td>34.1478</td>\n",
       "      <td>-119.1951</td>\n",
       "      <td>96.46</td>\n",
       "      <td>56</td>\n",
       "      <td>0</td>\n",
       "      <td>10.36</td>\n",
       "      <td>US</td>\n",
       "      <td>1659310895</td>\n",
       "    </tr>\n",
       "    <tr>\n",
       "      <th>544</th>\n",
       "      <td>Parrita</td>\n",
       "      <td>9.5201</td>\n",
       "      <td>-84.3225</td>\n",
       "      <td>79.54</td>\n",
       "      <td>87</td>\n",
       "      <td>89</td>\n",
       "      <td>3.29</td>\n",
       "      <td>CR</td>\n",
       "      <td>1659310896</td>\n",
       "    </tr>\n",
       "    <tr>\n",
       "      <th>545</th>\n",
       "      <td>Güicán</td>\n",
       "      <td>6.4618</td>\n",
       "      <td>-72.4113</td>\n",
       "      <td>50.58</td>\n",
       "      <td>94</td>\n",
       "      <td>99</td>\n",
       "      <td>3.80</td>\n",
       "      <td>CO</td>\n",
       "      <td>1659310896</td>\n",
       "    </tr>\n",
       "  </tbody>\n",
       "</table>\n",
       "<p>546 rows × 9 columns</p>\n",
       "</div>"
      ],
      "text/plain": [
       "                      City  City latitude  City longitude  Max temperature  \\\n",
       "City_ID                                                                      \n",
       "0                    Pevek        69.7008        170.3133            48.78   \n",
       "1        Saint Paul Harbor        57.7900       -152.4072            62.11   \n",
       "2                   Atuona        -9.8000       -139.0333            76.87   \n",
       "3                 Hermanus       -34.4187         19.2345            48.78   \n",
       "4                  Qaanaaq        77.4840        -69.3632            46.33   \n",
       "...                    ...            ...             ...              ...   \n",
       "541              Churapcha        62.0025        132.4325            79.61   \n",
       "542         Kalach-na-Donu        48.6910         43.5264            71.44   \n",
       "543           Port Hueneme        34.1478       -119.1951            96.46   \n",
       "544                Parrita         9.5201        -84.3225            79.54   \n",
       "545                 Güicán         6.4618        -72.4113            50.58   \n",
       "\n",
       "         Humidity  Cloud coverage  Wind speed City country  City datetime  \n",
       "City_ID                                                                    \n",
       "0              64               0       12.59           RU     1659310108  \n",
       "1              72             100        5.75           US     1659310108  \n",
       "2              75              12       14.50           PF     1659310108  \n",
       "3              72               2        6.64           ZA     1659310109  \n",
       "4              60              66        1.41           GL     1659310109  \n",
       "...           ...             ...         ...          ...            ...  \n",
       "541            46              84       11.05           RU     1659310894  \n",
       "542            63              29        7.65           RU     1659310895  \n",
       "543            56               0       10.36           US     1659310895  \n",
       "544            87              89        3.29           CR     1659310896  \n",
       "545            94              99        3.80           CO     1659310896  \n",
       "\n",
       "[546 rows x 9 columns]"
      ]
     },
     "execution_count": 5,
     "metadata": {},
     "output_type": "execute_result"
    }
   ],
   "source": [
    "# Convert the data to DataFrame\n",
    "city_df = pd.DataFrame({ \"City\"            : data_city_name\n",
    "                       , \"City latitude\"   : data_city_latitude\n",
    "                       , \"City longitude\"  : data_city_longitude\n",
    "                       , \"Max temperature\" : data_max_temperature\n",
    "                       , \"Humidity\"        : data_humidity\n",
    "                       , \"Cloud coverage\"  : data_cloud_coverage\n",
    "                       , \"Wind speed\"      : data_wind_speed\n",
    "                       , \"City country\"    : data_city_country\n",
    "                       , \"City datetime\"   : data_city_datetime\n",
    "                       })\n",
    "\n",
    "city_df.index.name = \"City_ID\"\n",
    "\n",
    "#Export the city data into a .csv. \n",
    "output_data_file = \"../output_data/cities.csv\"\n",
    "output_path      = os.path.join(output_data_file )\n",
    "city_df.to_csv(output_path,index=\"False\")\n",
    "\n",
    "city_df"
   ]
  },
  {
   "cell_type": "markdown",
   "metadata": {},
   "source": [
    "## Inspect the data and remove the cities where the humidity > 100%.\n",
    "----\n",
    "Skip this step if there are no cities that have humidity > 100%. "
   ]
  },
  {
   "cell_type": "code",
   "execution_count": 6,
   "metadata": {},
   "outputs": [
    {
     "data": {
      "text/plain": [
       "546"
      ]
     },
     "execution_count": 6,
     "metadata": {},
     "output_type": "execute_result"
    }
   ],
   "source": [
    "# Inspect the data and remove the cities where the humidity > 100%\n",
    "\n",
    "# check if there area cities where humidity > 100%\n",
    "count_cities_gt_100_humidities = len(city_df[(city_df[\"Humidity\"] > 100) ])\n",
    "\n",
    "if count_cities_gt_100_humidities  > 0:\n",
    "    print (f\"count_cities_gt_100_humidities: {count_cities_gt_100_humidities }\")\n",
    "\n",
    "# Remove the cities where the humidity > 100% \n",
    "clean_city_data = city_df.loc[ (city_df[\"Humidity\"] <= 100 ) \n",
    "                                     , :]\n",
    "len(clean_city_data)"
   ]
  },
  {
   "cell_type": "code",
   "execution_count": 7,
   "metadata": {},
   "outputs": [],
   "source": [
    "#  Get the indices of cities that have humidity over 100%."
   ]
  },
  {
   "cell_type": "code",
   "execution_count": 8,
   "metadata": {},
   "outputs": [],
   "source": [
    "# Make a new DataFrame equal to the city data to drop all humidity outliers by index.\n",
    "# Passing \"inplace=False\" will make a copy of the city_data DataFrame, which we call \"clean_city_data\"."
   ]
  },
  {
   "cell_type": "code",
   "execution_count": 9,
   "metadata": {},
   "outputs": [
    {
     "data": {
      "text/plain": [
       "'2022-07-31'"
      ]
     },
     "execution_count": 9,
     "metadata": {},
     "output_type": "execute_result"
    }
   ],
   "source": [
    "# Get the date of analysis using the timestamp of the first row since the request to retrieve the data are most \n",
    "# likely will occur on the same day\n",
    "from datetime import date as dt\n",
    "\n",
    "date_df = pd.to_datetime(clean_city_data[\"City datetime\"], unit='s').dt.date\n",
    "date_only = date_df[0:1]\n",
    "\n",
    "for item in date_only:\n",
    "    analysis_date = str(item)\n",
    "\n",
    "analysis_date"
   ]
  },
  {
   "cell_type": "markdown",
   "metadata": {},
   "source": [
    "## Plotting the Data\n",
    "* Use proper labeling of the plots using plot titles (including date of analysis) and axes labels.\n",
    "* Save the plotted figures as .pngs."
   ]
  },
  {
   "cell_type": "code",
   "execution_count": 10,
   "metadata": {},
   "outputs": [],
   "source": [
    "# Define a function to create scatter plot for Latitude vs. a given y_axis\n",
    "def create_scatter_plot(scatter_parms_dict):\n",
    "    \n",
    "    # Save the y_axis value\n",
    "    y_axis  = scatter_parms_dict.get(\"y_axis\")\n",
    "    ylabel  = scatter_parms_dict.get(\"ylabel\")\n",
    "    unit    = scatter_parms_dict.get(\"unit\")\n",
    "    outfile = scatter_parms_dict.get(\"outfile\")\n",
    "    \n",
    "    # Build a scatter plot for Latitude vs. a given y_axis\n",
    "    x_axis = clean_city_data[\"City latitude\"]\n",
    "    \n",
    "    plt.scatter ( x_axis\n",
    "                , y_axis\n",
    "                , marker=\"o\"\n",
    "                )\n",
    "\n",
    "    # Incorporate the other graph properties\n",
    "    xlabel = \"Latitude\"\n",
    "\n",
    "    plt.title  (f\"{xlabel} vs. {ylabel} ({analysis_date})\")\n",
    "    plt.ylabel (f\"{ylabel} {unit}\")\n",
    "    plt.xlabel (f\"{xlabel}\")\n",
    "    plt.grid   (True)\n",
    "\n",
    "    # Save the figure\n",
    "    plt.savefig(f\"../output_data/{outfile}\")\n",
    "\n",
    "    # Show plot\n",
    "    plt.show()"
   ]
  },
  {
   "cell_type": "markdown",
   "metadata": {},
   "source": [
    "## Latitude vs. Temperature Plot"
   ]
  },
  {
   "cell_type": "code",
   "execution_count": 11,
   "metadata": {
    "scrolled": true
   },
   "outputs": [
    {
     "data": {
      "image/png": "[encoded data removed]",
      "text/plain": [
       "<Figure size 432x288 with 1 Axes>"
      ]
     },
     "metadata": {
      "needs_background": "light"
     },
     "output_type": "display_data"
    }
   ],
   "source": [
    "# Build a scatter plot for Latitude vs. Temperature\n",
    "\n",
    "# Save the data to create the scatter plot in a dictionary\n",
    "scatter_parms_dict =  { \"y_axis\"  : clean_city_data[\"Max temperature\"]\n",
    "                      , \"ylabel\"  : \"Max temperature\"\n",
    "                      , \"unit\"    : \"(F)\"\n",
    "                      , \"outfile\" : \"fig01_Latitude_vs_Temperature.png\"\n",
    "}\n",
    "\n",
    "# Call the function to create the scatter plot\n",
    "create_scatter_plot(scatter_parms_dict )"
   ]
  },
  {
   "cell_type": "markdown",
   "metadata": {},
   "source": [
    "#### Latitude vs. Temperature Plot\n",
    "This plot analyzes the correlation between the latitude and max temperature for cities with humidity of less than or equal to 100. The plot is showing these trends with both trends has similar peak in max temperature:\n",
    "-\tStrong positive correlation between max temperature and latitude of less than 0.\n",
    "-\tStrong negative correlation between max temperature and latitude of greater than 0\n"
   ]
  },
  {
   "cell_type": "markdown",
   "metadata": {},
   "source": [
    "## Latitude vs. Humidity Plot"
   ]
  },
  {
   "cell_type": "code",
   "execution_count": 12,
   "metadata": {},
   "outputs": [
    {
     "data": {
      "image/png": "[encoded data removed]",
      "text/plain": [
       "<Figure size 432x288 with 1 Axes>"
      ]
     },
     "metadata": {
      "needs_background": "light"
     },
     "output_type": "display_data"
    }
   ],
   "source": [
    "# Build a scatter plot for Latitude vs. Humidity \n",
    "\n",
    "# Save the data to create the scatter plot in a dictionary\n",
    "scatter_parms_dict =  { \"y_axis\"  : clean_city_data[\"Humidity\"]\n",
    "                      , \"ylabel\"  : \"Humidity\"\n",
    "                      , \"unit\"    : \"(%)\"\n",
    "                      , \"outfile\" : \"fig02_Latitude_vs_Humidity.png\"\n",
    "}\n",
    "\n",
    "# Call the function to create the scatter plot\n",
    "create_scatter_plot(scatter_parms_dict )"
   ]
  },
  {
   "cell_type": "markdown",
   "metadata": {},
   "source": [
    "#### Latitude vs. Humidity Plot\n",
    "This plot analyzes the correlation between the latitude and humidity for cities with humidity of less than or equal to 100. The plot shows no correlation between the latitude and humidity. The plot also shows the data points are gathered towards higher humidity.\n"
   ]
  },
  {
   "cell_type": "markdown",
   "metadata": {},
   "source": [
    "## Latitude vs. Cloudiness Plot"
   ]
  },
  {
   "cell_type": "code",
   "execution_count": 13,
   "metadata": {},
   "outputs": [
    {
     "data": {
      "image/png": "[encoded data removed]",
      "text/plain": [
       "<Figure size 432x288 with 1 Axes>"
      ]
     },
     "metadata": {
      "needs_background": "light"
     },
     "output_type": "display_data"
    }
   ],
   "source": [
    "# Build a scatter plot for Latitude vs. Cloudiness \n",
    "\n",
    "# Save the data to create the scatter plot in a dictionary\n",
    "scatter_parms_dict =  { \"y_axis\"  : clean_city_data[\"Cloud coverage\"]\n",
    "                      , \"ylabel\"  : \"Cloudiness\"\n",
    "                      , \"unit\"    : \"(%)\"\n",
    "                      , \"outfile\" : \"fig03_Latitude_vs_Cloudiness.png\"\n",
    "}\n",
    "\n",
    "# Call the function to create the scatter plot\n",
    "create_scatter_plot(scatter_parms_dict )"
   ]
  },
  {
   "cell_type": "markdown",
   "metadata": {},
   "source": [
    "#### Latitude vs. Cloudiness Plot\n",
    "This plot analyzes the correlation between the latitude and cloudiness for cities with humidity of less than or equal to 100. The plot shows the data points are spread out thus indicating no correlation between the latitude and cloudiness. "
   ]
  },
  {
   "cell_type": "markdown",
   "metadata": {},
   "source": [
    "## Latitude vs. Wind Speed Plot"
   ]
  },
  {
   "cell_type": "code",
   "execution_count": 14,
   "metadata": {},
   "outputs": [
    {
     "data": {
      "image/png": "[encoded data removed]",
      "text/plain": [
       "<Figure size 432x288 with 1 Axes>"
      ]
     },
     "metadata": {
      "needs_background": "light"
     },
     "output_type": "display_data"
    }
   ],
   "source": [
    "# Build a scatter plot for Latitude vs. Wind speed \n",
    "\n",
    "# Save the data to create the scatter plot in a dictionary\n",
    "scatter_parms_dict =  { \"y_axis\"  : clean_city_data[\"Wind speed\"]\n",
    "                      , \"ylabel\"  : \"Wind Speed\"\n",
    "                      , \"unit\"    : \"(mph)\"\n",
    "                      , \"outfile\" : \"fig04_Latitude_vs_WindSpeed.png\"\n",
    "}\n",
    "\n",
    "# Call the function to create the scatter plot\n",
    "create_scatter_plot(scatter_parms_dict )"
   ]
  },
  {
   "cell_type": "markdown",
   "metadata": {},
   "source": [
    "#### Latitude vs. Wind Speed Plot\n",
    "This plot analyzes the correlation between the latitude and wind speed for cities with humidity of less than or equal to 100. The plot shows no correlation between the latitude and wind speed.  The plot also shows the data points are gathered towards lower wind speed thus indicating there are  several cities with slower wind speed."
   ]
  },
  {
   "cell_type": "markdown",
   "metadata": {},
   "source": [
    "## Linear Regression"
   ]
  },
  {
   "cell_type": "code",
   "execution_count": 15,
   "metadata": {},
   "outputs": [
    {
     "name": "stdout",
     "output_type": "stream",
     "text": [
      "Number of cities in northern_hemisphere: 378\n",
      "Number of cities in southern_hemisphere: 168\n"
     ]
    }
   ],
   "source": [
    "# Create a df of cities in Northern Hemisphere \n",
    "northern_hemisphere_df = clean_city_data.loc[ (clean_city_data[\"City latitude\"] >= 0 ) \n",
    "                                            ]\n",
    "\n",
    "# Create a df of cities in Southern Hemisphere \n",
    "southern_hemisphere_df = clean_city_data.loc[ (clean_city_data[\"City latitude\"] < 0 ) \n",
    "                                            ]\n",
    "print (f\"Number of cities in northern_hemisphere: {len(northern_hemisphere_df)}\")\n",
    "print (f\"Number of cities in southern_hemisphere: {len(southern_hemisphere_df)}\")"
   ]
  },
  {
   "cell_type": "code",
   "execution_count": 16,
   "metadata": {},
   "outputs": [],
   "source": [
    "# Define a function to create linear regression for a given hemisphere and y_axis vs Latitude \n",
    "def create_linear_regression(linear_regression_parms_dict):\n",
    "    \n",
    "    # Save the parms value from parms dict\n",
    "    hemisphere_loc = linear_regression_parms_dict.get(\"hemisphere_loc\")\n",
    "    x_values       = linear_regression_parms_dict.get(\"x_values\")\n",
    "    y_values       = linear_regression_parms_dict.get(\"y_values\")\n",
    "    ylabel         = linear_regression_parms_dict.get(\"ylabel\")\n",
    "    unit           = linear_regression_parms_dict.get(\"unit\")\n",
    "    annotatate_x   = linear_regression_parms_dict.get(\"annotatate_x\")  \n",
    "    annotatate_y   = linear_regression_parms_dict.get(\"annotatate_y\") \n",
    "    outfile        = linear_regression_parms_dict.get(\"outfile\")\n",
    "    \n",
    "    # Perform a linear regression on y_values vs. x_values\n",
    "    (slope, intercept, rvalue, pvalue, stderr) = linregress(x_values, y_values)\n",
    "\n",
    "    # Get regression values\n",
    "    regress_values = x_values * slope + intercept\n",
    "\n",
    "    # Create line equation string\n",
    "    line_eq = \"y = \" + str(round(slope,2)) + \"x + \" + str(round(intercept,2))\n",
    "\n",
    "    # Compare the calcualted Pearson's r to the plots\n",
    "    plt.scatter( x_values\n",
    "               , y_values\n",
    "               , color=\"blue\")\n",
    "\n",
    "    # Add the line regresssion to plot\n",
    "    plt.plot(x_values,regress_values,\"r-\")\n",
    "\n",
    "    # Annotate the line equation\n",
    "    plt.annotate(line_eq,(annotatate_x, annotatate_y),fontsize=10,color=\"red\")\n",
    "\n",
    "    # Set the title and x & y labels\n",
    "    xlabel = \"Latitude\"\n",
    "    plt.xlabel (f\"{xlabel}\")\n",
    "    plt.ylabel (f\"{ylabel} {unit}\")\n",
    "    plt.title  (f\"{hemisphere_loc} Hemisphere - {ylabel} {unit} vs. {xlabel} ({analysis_date})\")\n",
    "\n",
    "    # Print r value\n",
    "    print(f\"The r-value is: {rvalue**2}\")\n",
    "\n",
    "    # Save the figure \n",
    "    plt.savefig(f\"../output_data/{outfile}\")\n",
    "\n",
    "    # Show plot\n",
    "    plt.show()"
   ]
  },
  {
   "cell_type": "markdown",
   "metadata": {},
   "source": [
    "## Northern Hemisphere - Max Temp vs. Latitude Linear Regression"
   ]
  },
  {
   "cell_type": "code",
   "execution_count": 17,
   "metadata": {},
   "outputs": [
    {
     "name": "stdout",
     "output_type": "stream",
     "text": [
      "The r-value is: 0.4106186918589397\n"
     ]
    },
    {
     "data": {
      "image/png": "[encoded data removed]",
      "text/plain": [
       "<Figure size 432x288 with 1 Axes>"
      ]
     },
     "metadata": {
      "needs_background": "light"
     },
     "output_type": "display_data"
    }
   ],
   "source": [
    "# Calculate the linear regression equation Northern Hemisphere - Temperature (F) vs. Latitude\n",
    "\n",
    "# Save the data to create the scatter plot in a dictionary\n",
    "linear_regression_parms_dict = { \"hemisphere_loc\" : \"Northern\"\n",
    "                               , \"x_values\"       : northern_hemisphere_df[\"City latitude\"]\n",
    "                               , \"y_values\"       : northern_hemisphere_df[\"Max temperature\"]\n",
    "                               , \"ylabel\"         : \"Max temperature\"\n",
    "                               , \"unit\"           : \"(F)\"\n",
    "                               , \"annotatate_x\"   : 20\n",
    "                               , \"annotatate_y\"   : 50\n",
    "                               , \"outfile\"        : \"fig05_Northern_Max_Temp_vs_Latitude.png\"                               \n",
    "}\n",
    "\n",
    "# Call the function to create the linear regression\n",
    "create_linear_regression(linear_regression_parms_dict )"
   ]
  },
  {
   "cell_type": "markdown",
   "metadata": {},
   "source": [
    "#### Northern Hemisphere - Max Temp vs. Latitude Linear Regression\n",
    "This plot analyzes the correlation between the latitude and max temperature for cities with latitude greater than or equal to zero. The plot shows a negative linear regression between the latitude and max temperature thus indicating the temperature gets colder as the latitude gets farther from 0 latitude. \n"
   ]
  },
  {
   "cell_type": "markdown",
   "metadata": {},
   "source": [
    "## Southern Hemisphere - Max Temp vs. Latitude Linear Regression"
   ]
  },
  {
   "cell_type": "code",
   "execution_count": 18,
   "metadata": {},
   "outputs": [
    {
     "name": "stdout",
     "output_type": "stream",
     "text": [
      "The r-value is: 0.6250544720467077\n"
     ]
    },
    {
     "data": {
      "image/png": "[encoded data removed]",
      "text/plain": [
       "<Figure size 432x288 with 1 Axes>"
      ]
     },
     "metadata": {
      "needs_background": "light"
     },
     "output_type": "display_data"
    }
   ],
   "source": [
    "# Calculate the linear regression equation Southern Hemisphere - Max Temp vs. Latitude Linear Regression\n",
    "\n",
    "# Save the data to create the scatter plot in a dictionary\n",
    "linear_regression_parms_dict = { \"hemisphere_loc\" : \"Southern\"\n",
    "                               , \"x_values\"       : southern_hemisphere_df[\"City latitude\"]\n",
    "                               , \"y_values\"       : southern_hemisphere_df[\"Max temperature\"]\n",
    "                               , \"ylabel\"         : \"Max temperature\"\n",
    "                               , \"unit\"           : \"(F)\"\n",
    "                               , \"annotatate_x\"   : -25\n",
    "                               , \"annotatate_y\"   : 40\n",
    "                               , \"outfile\"        : \"fig06_Southern_Max_Temp_vs_Latitude.png\"\n",
    "                               \n",
    "}\n",
    "\n",
    "# Call the function to create the linear regression\n",
    "create_linear_regression(linear_regression_parms_dict )"
   ]
  },
  {
   "cell_type": "markdown",
   "metadata": {},
   "source": [
    "#### Southern Hemisphere - Max Temp vs. Latitude Linear Regression\n",
    "This plot analyzes the correlation between the latitude and max temperature for cities with latitude less than zero. The plot shows a positive linear regression between the latitude and max temperature thus indicating the temperature gets colder as the latitude gets farther from 0 latitude. \n"
   ]
  },
  {
   "cell_type": "markdown",
   "metadata": {},
   "source": [
    "## Northern Hemisphere - Humidity (%) vs. Latitude Linear Regression"
   ]
  },
  {
   "cell_type": "code",
   "execution_count": 19,
   "metadata": {},
   "outputs": [
    {
     "name": "stdout",
     "output_type": "stream",
     "text": [
      "The r-value is: 0.004912319554302326\n"
     ]
    },
    {
     "data": {
      "image/png": "[encoded data removed]",
      "text/plain": [
       "<Figure size 432x288 with 1 Axes>"
      ]
     },
     "metadata": {
      "needs_background": "light"
     },
     "output_type": "display_data"
    }
   ],
   "source": [
    "# Calculate the linear regression equation Northern Hemisphere - Humidity (%) vs. Latitude Linear Regression\n",
    "\n",
    "# Save the data to create the scatter plot in a dictionary\n",
    "linear_regression_parms_dict = { \"hemisphere_loc\" : \"Northern\"\n",
    "                               , \"x_values\"       : northern_hemisphere_df[\"City latitude\"]\n",
    "                               , \"y_values\"       : northern_hemisphere_df[\"Humidity\"]\n",
    "                               , \"ylabel\"         : \"Humidity\"\n",
    "                               , \"unit\"           : \"(%)\"\n",
    "                               , \"annotatate_x\"   : 45\n",
    "                               , \"annotatate_y\"   : 20\n",
    "                               , \"outfile\"        : \"fig07_Northern_Humidity_vs_Latitude.png\"\n",
    "                               \n",
    "}\n",
    "\n",
    "# Call the function to create the linear regression\n",
    "create_linear_regression(linear_regression_parms_dict )"
   ]
  },
  {
   "cell_type": "markdown",
   "metadata": {},
   "source": [
    "#### Northern Hemisphere - Humidity (%) vs. Latitude Linear Regression\n",
    "This plot analyzes the correlation between the latitude and humidity for cities with latitude greater than or equal to zero. The plot shows no correlation with a flat linear regression between the latitude and humidity. It also shows the data points are gathered in higher humidity. This indicates the distance of the city from the equator doesn’t impact its humidity.\n"
   ]
  },
  {
   "cell_type": "markdown",
   "metadata": {},
   "source": [
    "## Southern Hemisphere - Humidity (%) vs. Latitude Linear Regression"
   ]
  },
  {
   "cell_type": "code",
   "execution_count": 20,
   "metadata": {},
   "outputs": [
    {
     "name": "stdout",
     "output_type": "stream",
     "text": [
      "The r-value is: 0.00026671829668453376\n"
     ]
    },
    {
     "data": {
      "image/png": "[encoded data removed]",
      "text/plain": [
       "<Figure size 432x288 with 1 Axes>"
      ]
     },
     "metadata": {
      "needs_background": "light"
     },
     "output_type": "display_data"
    }
   ],
   "source": [
    "# Calculate the linear regression equation Southern Hemisphere - Humidity (%) vs. Latitude Linear Regression\n",
    "\n",
    "# Save the data to create the scatter plot in a dictionary\n",
    "linear_regression_parms_dict = { \"hemisphere_loc\" : \"Southern\"\n",
    "                               , \"x_values\"       : southern_hemisphere_df[\"City latitude\"]\n",
    "                               , \"y_values\"       : southern_hemisphere_df[\"Humidity\"]\n",
    "                               , \"ylabel\"         : \"Humidity\"\n",
    "                               , \"unit\"           : \"(%)\"\n",
    "                               , \"annotatate_x\"   : -45\n",
    "                               , \"annotatate_y\"   : 35\n",
    "                               , \"outfile\"        : \"fig08_Southern_Humidity_vs_Latitude.png\"\n",
    "                               \n",
    "}\n",
    "\n",
    "# Call the function to create the linear regression\n",
    "create_linear_regression(linear_regression_parms_dict )"
   ]
  },
  {
   "cell_type": "markdown",
   "metadata": {},
   "source": [
    "#### Southern Hemisphere - Humidity (%) vs. Latitude Linear Regression\n",
    "This plot analyzes the correlation between the latitude and humidity for cities with latitude less than zero. The plot shows data points are spread out  and no correlation with a flat linear regression between the latitude and humidity. This indicates the distance of the city from the equator doesn’t impact its humidity. \n"
   ]
  },
  {
   "cell_type": "markdown",
   "metadata": {},
   "source": [
    "## Northern Hemisphere - Cloudiness (%) vs. Latitude Linear Regression"
   ]
  },
  {
   "cell_type": "code",
   "execution_count": 21,
   "metadata": {},
   "outputs": [
    {
     "name": "stdout",
     "output_type": "stream",
     "text": [
      "The r-value is: 0.001965068602343414\n"
     ]
    },
    {
     "data": {
      "image/png": "[encoded data removed]",
      "text/plain": [
       "<Figure size 432x288 with 1 Axes>"
      ]
     },
     "metadata": {
      "needs_background": "light"
     },
     "output_type": "display_data"
    }
   ],
   "source": [
    "# Calculate the linear regression equation Northern Hemisphere - Cloudiness (%) vs. Latitude Linear Regression\n",
    "\n",
    "# Save the data to create the scatter plot in a dictionary\n",
    "linear_regression_parms_dict = { \"hemisphere_loc\" : \"Northern\"\n",
    "                               , \"x_values\"       : northern_hemisphere_df[\"City latitude\"]\n",
    "                               , \"y_values\"       : northern_hemisphere_df[\"Cloud coverage\"]\n",
    "                               , \"ylabel\"         : \"Cloudiness\"\n",
    "                               , \"unit\"           : \"(%)\"\n",
    "                               , \"annotatate_x\"   : 10\n",
    "                               , \"annotatate_y\"   : 25\n",
    "                               , \"outfile\"        : \"fig09_Northern_Cloudiness_vs_Latitude.png\"\n",
    "                               \n",
    "}\n",
    "\n",
    "# Call the function to create the linear regression\n",
    "create_linear_regression(linear_regression_parms_dict )"
   ]
  },
  {
   "cell_type": "markdown",
   "metadata": {},
   "source": [
    "#### Northern Hemisphere - Cloudiness (%) vs. Latitude Linear Regression\n",
    "This plot analyzes the correlation between the latitude and cloudiness for cities with latitude greater than or equal to zero. The plot shows no correlation with a flat linear regression between the latitude and cloudiness. This indicates the distance of the city from the equator doesn’t impact its cloudiness.\n"
   ]
  },
  {
   "cell_type": "markdown",
   "metadata": {},
   "source": [
    "## Southern Hemisphere - Cloudiness (%) vs. Latitude Linear Regression"
   ]
  },
  {
   "cell_type": "code",
   "execution_count": 22,
   "metadata": {},
   "outputs": [
    {
     "name": "stdout",
     "output_type": "stream",
     "text": [
      "The r-value is: 0.011664855473794327\n"
     ]
    },
    {
     "data": {
      "image/png": "[encoded data removed]",
      "text/plain": [
       "<Figure size 432x288 with 1 Axes>"
      ]
     },
     "metadata": {
      "needs_background": "light"
     },
     "output_type": "display_data"
    }
   ],
   "source": [
    "# Calculate the linear regression equation Southern Hemisphere - Cloudiness (%) vs. Latitude Linear Regression\n",
    "\n",
    "# Save the data to create the scatter plot in a dictionary\n",
    "linear_regression_parms_dict = { \"hemisphere_loc\" : \"Southern\"\n",
    "                               , \"x_values\"       : southern_hemisphere_df[\"City latitude\"]\n",
    "                               , \"y_values\"       : southern_hemisphere_df[\"Cloud coverage\"]\n",
    "                               , \"ylabel\"         : \"Cloudiness\"\n",
    "                               , \"unit\"           : \"(%)\"\n",
    "                               , \"annotatate_x\"   : -50\n",
    "                               , \"annotatate_y\"   : 30\n",
    "                               , \"outfile\"        : \"fig10_Southern_Cloudiness_vs_Latitude.png\"\n",
    "                               \n",
    "}\n",
    "\n",
    "# Call the function to create the linear regression\n",
    "create_linear_regression(linear_regression_parms_dict )"
   ]
  },
  {
   "cell_type": "markdown",
   "metadata": {},
   "source": [
    "#### Southern Hemisphere - Cloudiness (%) vs. Latitude Linear Regression\n",
    "This plot analyzes the correlation between the latitude and cloudiness for cities with latitude less than zero. The plot shows no correlation with a slightly positive incline linear regression between the latitude and cloudiness. This indicates the distance of the city from the equator doesn’t impact its cloudiness.\n"
   ]
  },
  {
   "cell_type": "markdown",
   "metadata": {},
   "source": [
    "## Northern Hemisphere - Wind Speed (mph) vs. Latitude Linear Regression"
   ]
  },
  {
   "cell_type": "code",
   "execution_count": 23,
   "metadata": {},
   "outputs": [
    {
     "name": "stdout",
     "output_type": "stream",
     "text": [
      "The r-value is: 0.002625034517651176\n"
     ]
    },
    {
     "data": {
      "image/png": "[encoded data removed]",
      "text/plain": [
       "<Figure size 432x288 with 1 Axes>"
      ]
     },
     "metadata": {
      "needs_background": "light"
     },
     "output_type": "display_data"
    }
   ],
   "source": [
    "# Calculate the linear regression equation Northern Hemisphere - Wind Speed (mph) vs. Latitude Linear Regression\n",
    "\n",
    "# Save the data to create the scatter plot in a dictionary\n",
    "linear_regression_parms_dict = { \"hemisphere_loc\" : \"Northern\"\n",
    "                               , \"x_values\"       : northern_hemisphere_df[\"City latitude\"]\n",
    "                               , \"y_values\"       : northern_hemisphere_df[\"Wind speed\"]\n",
    "                               , \"ylabel\"         : \"Wind speed\"\n",
    "                               , \"unit\"           : \"(mph)\"\n",
    "                               , \"annotatate_x\"   : 25\n",
    "                               , \"annotatate_y\"   : 20\n",
    "                               , \"outfile\"        : \"fig11_Northern_Wind_Speed_vs_Latitude.png\"\n",
    "                               \n",
    "}\n",
    "\n",
    "# Call the function to create the linear regression\n",
    "create_linear_regression(linear_regression_parms_dict )"
   ]
  },
  {
   "cell_type": "markdown",
   "metadata": {},
   "source": [
    "#### Northern Hemisphere - Wind Speed (mph) vs. Latitude Linear Regression\n",
    "This plot analyzes the correlation between the latitude and wind speed for cities with latitude greater than or equal to zero. The plot shows the data points are spread out and no correlation with a flat linear regression between the latitude and wind speed. This indicates the distance of the city from the equator doesn’t impact its wind speed.\n"
   ]
  },
  {
   "cell_type": "markdown",
   "metadata": {},
   "source": [
    "## Southern Hemisphere - Wind Speed (mph) vs. Latitude Linear Regression"
   ]
  },
  {
   "cell_type": "code",
   "execution_count": 24,
   "metadata": {},
   "outputs": [
    {
     "name": "stdout",
     "output_type": "stream",
     "text": [
      "The r-value is: 0.01060755270766429\n"
     ]
    },
    {
     "data": {
      "image/png": "[encoded data removed]",
      "text/plain": [
       "<Figure size 432x288 with 1 Axes>"
      ]
     },
     "metadata": {
      "needs_background": "light"
     },
     "output_type": "display_data"
    }
   ],
   "source": [
    "# Calculate the linear regression equation Southern Hemisphere - Wind Speed (mph) vs. Latitude Linear Regression\n",
    "\n",
    "# Save the data to create the scatter plot in a dictionary\n",
    "linear_regression_parms_dict = { \"hemisphere_loc\" : \"Southern\"\n",
    "                               , \"x_values\"       : southern_hemisphere_df[\"City latitude\"]\n",
    "                               , \"y_values\"       : southern_hemisphere_df[\"Wind speed\"]\n",
    "                               , \"ylabel\"         : \"Wind speed\"\n",
    "                               , \"unit\"           : \"(mph)\"\n",
    "                               , \"annotatate_x\"   : -40\n",
    "                               , \"annotatate_y\"   : 20\n",
    "                               , \"outfile\"        : \"fig12_Southern_Wind_Speed_vs_Latitude.png\"                              \n",
    "}\n",
    "\n",
    "# Call the function to create the linear regression\n",
    "create_linear_regression(linear_regression_parms_dict )"
   ]
  },
  {
   "cell_type": "markdown",
   "metadata": {},
   "source": [
    "#### Southern Hemisphere - Wind Speed (mph) vs. Latitude Linear Regression\n",
    "This plot analyzes the correlation between the latitude and wind speed for cities with latitude less than zero. The plot shows the data points are spread out and no correlation with a slightly negative incline linear regression between the latitude and windspeed. This indicates the distance of the city from the equator doesn’t impact its wind speed.\n"
   ]
  },
  {
   "cell_type": "code",
   "execution_count": null,
   "metadata": {},
   "outputs": [],
   "source": []
  },
  {
   "cell_type": "code",
   "execution_count": null,
   "metadata": {},
   "outputs": [],
   "source": []
  }
 ],
 "metadata": {
  "anaconda-cloud": {},
  "kernel_info": {
   "name": "python3"
  },
  "kernelspec": {
   "display_name": "Python 3 (ipykernel)",
   "language": "python",
   "name": "python3"
  },
  "language_info": {
   "codemirror_mode": {
    "name": "ipython",
    "version": 3
   },
   "file_extension": ".py",
   "mimetype": "text/x-python",
   "name": "python",
   "nbconvert_exporter": "python",
   "pygments_lexer": "ipython3",
   "version": "3.8.13"
  },
  "latex_envs": {
   "LaTeX_envs_menu_present": true,
   "autoclose": false,
   "autocomplete": true,
   "bibliofile": "biblio.bib",
   "cite_by": "apalike",
   "current_citInitial": 1,
   "eqLabelWithNumbers": true,
   "eqNumInitial": 1,
   "hotkeys": {
    "equation": "Ctrl-E",
    "itemize": "Ctrl-I"
   },
   "labels_anchors": false,
   "latex_user_defs": false,
   "report_style_numbering": false,
   "user_envs_cfg": false
  },
  "nteract": {
   "version": "0.12.3"
  }
 },
 "nbformat": 4,
 "nbformat_minor": 2
}
