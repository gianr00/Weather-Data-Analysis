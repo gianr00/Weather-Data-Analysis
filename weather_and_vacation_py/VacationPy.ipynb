{
 "cells": [
  {
   "cell_type": "markdown",
   "metadata": {},
   "source": [
    "# VacationPy\n",
    "----\n",
    "\n",
    "#### Note\n",
    "* Keep an eye on your API usage. Use https://developers.google.com/maps/reporting/gmp-reporting as reference for how to monitor your usage and billing.\n",
    "\n",
    "* Instructions have been included for each segment. You do not have to follow them exactly, but they are included to help you think through the steps."
   ]
  },
  {
   "cell_type": "code",
   "execution_count": 1,
   "metadata": {},
   "outputs": [],
   "source": [
    "#pip install citipy    "
   ]
  },
  {
   "cell_type": "code",
   "execution_count": 2,
   "metadata": {},
   "outputs": [],
   "source": [
    "# Dependencies and Setup\n",
    "import matplotlib.pyplot as plt\n",
    "import pandas as pd\n",
    "import numpy as np\n",
    "import requests \n",
    "import gmaps\n",
    "import os\n",
    "import json\n",
    "\n",
    "# Import API key\n",
    "from api_keys import g_key"
   ]
  },
  {
   "cell_type": "markdown",
   "metadata": {},
   "source": [
    "### Store Part I results into DataFrame\n",
    "* Load the csv exported in Part I to a DataFrame\n",
    "* Drop any rows will null values."
   ]
  },
  {
   "cell_type": "code",
   "execution_count": 3,
   "metadata": {},
   "outputs": [
    {
     "data": {
      "text/plain": [
       "541"
      ]
     },
     "execution_count": 3,
     "metadata": {},
     "output_type": "execute_result"
    }
   ],
   "source": [
    "# Create a df of city data created in weatherpy\n",
    "saved_city_path = \"../output_data/cities.csv\"\n",
    "\n",
    "# Read the mouse data and the study results\n",
    "city_df = pd.read_csv(saved_city_path)\n",
    "\n",
    "# Drop any rows with null values\n",
    "city_df = city_df.dropna()\n",
    "len(city_df)"
   ]
  },
  {
   "cell_type": "markdown",
   "metadata": {},
   "source": [
    "### Humidity Heatmap\n",
    "* Configure gmaps.\n",
    "* Use the Lat and Lng as locations and Humidity as the weight.\n",
    "* Add Heatmap layer to map."
   ]
  },
  {
   "cell_type": "code",
   "execution_count": 4,
   "metadata": {},
   "outputs": [
    {
     "data": {
      "application/vnd.jupyter.widget-view+json": {
       "model_id": "62f8fec2f2a24184b9c3416a1635efa1",
       "version_major": 2,
       "version_minor": 0
      },
      "text/plain": [
       "Figure(layout=FigureLayout(height='420px'))"
      ]
     },
     "metadata": {},
     "output_type": "display_data"
    }
   ],
   "source": [
    "# Configure gmaps\n",
    "gmaps.configure(api_key=g_key)\n",
    "\n",
    "# Store latitude and longitude in locations\n",
    "locations = city_df[[\"City latitude\", \"City longitude\"]]\n",
    "humidity  = city_df[\"Humidity\"]\n",
    "\n",
    "# Plot Heatmap\n",
    "fig = gmaps.figure()\n",
    "\n",
    "# Create heat layer\n",
    "heat_layer = gmaps.heatmap_layer( locations\n",
    "                                , weights       = humidity \n",
    "                                , dissipating   = False\n",
    "                                , max_intensity = 100\n",
    "                                , point_radius  = 1\n",
    "                                )\n",
    "\n",
    "\n",
    "# Add layer\n",
    "fig.add_layer(heat_layer)\n",
    "\n",
    "# Display figure\n",
    "fig"
   ]
  },
  {
   "cell_type": "markdown",
   "metadata": {},
   "source": [
    "### Create new DataFrame fitting weather criteria\n",
    "* Narrow down the cities to fit weather conditions."
   ]
  },
  {
   "cell_type": "code",
   "execution_count": 5,
   "metadata": {},
   "outputs": [
    {
     "data": {
      "text/plain": [
       "5"
      ]
     },
     "execution_count": 5,
     "metadata": {},
     "output_type": "execute_result"
    }
   ],
   "source": [
    "# Narrow down the cities to fit weather conditions\n",
    "city_reduced_df = city_df.loc[ ( (city_df[\"Max temperature\"] > 50) \n",
    "                               & (city_df[\"Max temperature\"] < 75)  \n",
    "                               ) \n",
    "                               & (city_df[\"Wind speed\"] < 10 ) \n",
    "                               & (city_df[\"Cloud coverage\"] == 1)\n",
    "                               , [ \"City\"           \n",
    "                                 , \"City country\" \n",
    "                                 , \"City latitude\"  \n",
    "                                 , \"City longitude\" ]\n",
    "                               ].reset_index(drop=True) \n",
    "len(city_reduced_df)"
   ]
  },
  {
   "cell_type": "markdown",
   "metadata": {},
   "source": [
    "### Hotel Map\n",
    "* Store into variable named `hotel_df`.\n",
    "* Add a \"Hotel Name\" column to the DataFrame.\n",
    "* Set parameters to search for hotels with 5000 meters.\n",
    "* Hit the Google Places API for each city's coordinates.\n",
    "* Store the first Hotel result into the DataFrame.\n",
    "* Plot markers on top of the heatmap."
   ]
  },
  {
   "cell_type": "code",
   "execution_count": 6,
   "metadata": {},
   "outputs": [],
   "source": [
    "# Store into variable named hotel_df.\n",
    "hotel_df = city_reduced_df.rename(columns={  \"City\"           : \"City\"\n",
    "                                          , \"City country\"   : \"Country\"\n",
    "                                          , \"City latitude\"  : \"Latitude\"\n",
    "                                          , \"City longitude\" : \"Longitude\"\n",
    "                                          }\n",
    ")\n",
    "# Add columns for hotel name\n",
    "hotel_df[\"Hotel Name\"] = \"\""
   ]
  },
  {
   "cell_type": "code",
   "execution_count": 7,
   "metadata": {},
   "outputs": [
    {
     "name": "stdout",
     "output_type": "stream",
     "text": [
      "Retrieving Results for index 0: city Lichuan.\n",
      "Closest hotel in city Lichuan is Yicheng Hotel.\n",
      "-----------------------------------------------------------------------------------------\n",
      "Retrieving Results for index 1: city Soyo.\n",
      "Closest hotel in city Soyo is Kinwica Resort-Hotel (Soyo, Angola).\n",
      "-----------------------------------------------------------------------------------------\n",
      "Retrieving Results for index 2: city Tupã.\n",
      "Closest hotel in city Tupã is Hotel Fema.\n",
      "-----------------------------------------------------------------------------------------\n",
      "Retrieving Results for index 3: city Lauria.\n",
      "Closest hotel in city Lauria is Hotel VillaTerry.\n",
      "-----------------------------------------------------------------------------------------\n",
      "Retrieving Results for index 4: city San Miguel de Tucumán.\n",
      "Closest hotel in city San Miguel de Tucumán is Sheraton Tucuman Hotel.\n",
      "-----------------------------------------------------------------------------------------\n"
     ]
    },
    {
     "data": {
      "text/html": [
       "<div>\n",
       "<style scoped>\n",
       "    .dataframe tbody tr th:only-of-type {\n",
       "        vertical-align: middle;\n",
       "    }\n",
       "\n",
       "    .dataframe tbody tr th {\n",
       "        vertical-align: top;\n",
       "    }\n",
       "\n",
       "    .dataframe thead th {\n",
       "        text-align: right;\n",
       "    }\n",
       "</style>\n",
       "<table border=\"1\" class=\"dataframe\">\n",
       "  <thead>\n",
       "    <tr style=\"text-align: right;\">\n",
       "      <th></th>\n",
       "      <th>City</th>\n",
       "      <th>Country</th>\n",
       "      <th>Latitude</th>\n",
       "      <th>Longitude</th>\n",
       "      <th>Hotel Name</th>\n",
       "    </tr>\n",
       "  </thead>\n",
       "  <tbody>\n",
       "    <tr>\n",
       "      <th>0</th>\n",
       "      <td>Lichuan</td>\n",
       "      <td>CN</td>\n",
       "      <td>30.3000</td>\n",
       "      <td>108.8500</td>\n",
       "      <td>Yicheng Hotel</td>\n",
       "    </tr>\n",
       "    <tr>\n",
       "      <th>1</th>\n",
       "      <td>Soyo</td>\n",
       "      <td>AO</td>\n",
       "      <td>-6.1349</td>\n",
       "      <td>12.3689</td>\n",
       "      <td>Kinwica Resort-Hotel (Soyo, Angola)</td>\n",
       "    </tr>\n",
       "    <tr>\n",
       "      <th>2</th>\n",
       "      <td>Tupã</td>\n",
       "      <td>BR</td>\n",
       "      <td>-21.9347</td>\n",
       "      <td>-50.5136</td>\n",
       "      <td>Hotel Fema</td>\n",
       "    </tr>\n",
       "    <tr>\n",
       "      <th>3</th>\n",
       "      <td>Lauria</td>\n",
       "      <td>IT</td>\n",
       "      <td>40.0465</td>\n",
       "      <td>15.8358</td>\n",
       "      <td>Hotel VillaTerry</td>\n",
       "    </tr>\n",
       "    <tr>\n",
       "      <th>4</th>\n",
       "      <td>San Miguel de Tucumán</td>\n",
       "      <td>AR</td>\n",
       "      <td>-26.8241</td>\n",
       "      <td>-65.2226</td>\n",
       "      <td>Sheraton Tucuman Hotel</td>\n",
       "    </tr>\n",
       "  </tbody>\n",
       "</table>\n",
       "</div>"
      ],
      "text/plain": [
       "                    City Country  Latitude  Longitude  \\\n",
       "0                Lichuan      CN   30.3000   108.8500   \n",
       "1                   Soyo      AO   -6.1349    12.3689   \n",
       "2                   Tupã      BR  -21.9347   -50.5136   \n",
       "3                 Lauria      IT   40.0465    15.8358   \n",
       "4  San Miguel de Tucumán      AR  -26.8241   -65.2226   \n",
       "\n",
       "                            Hotel Name  \n",
       "0                        Yicheng Hotel  \n",
       "1  Kinwica Resort-Hotel (Soyo, Angola)  \n",
       "2                           Hotel Fema  \n",
       "3                     Hotel VillaTerry  \n",
       "4               Sheraton Tucuman Hotel  "
      ]
     },
     "execution_count": 7,
     "metadata": {},
     "output_type": "execute_result"
    }
   ],
   "source": [
    "#Set parameters to search for hotels within 5000 meters.\n",
    "params = { \"keyword\" : \"hotel\"\n",
    "         ,  \"radius\" : 5000\n",
    "         ,  \"type\"   : \"lodging\"\n",
    "         ,  \"key\"    : g_key\n",
    "         }\n",
    "\n",
    "# Save the base url\n",
    "base_url = \"https://maps.googleapis.com/maps/api/place/nearbysearch/json\"\n",
    "\n",
    "# Loop through hotel_df to search for the first hotel for each city \n",
    "for index, row in hotel_df.iterrows():\n",
    "    \n",
    "    # Save the Latitude and Longitude\n",
    "    latitude  = row[\"Latitude\"]\n",
    "    longitude = row[\"Longitude\"]\n",
    "    \n",
    "    # Set/add the location in the \"params\" dict\n",
    "    params[\"location\"] = f\"{latitude}, {longitude}\"\n",
    "    \n",
    "    # Assemble url and make API request and format the response into JSON\n",
    "    city      = row[\"City\"]\n",
    "    print (f\"Retrieving Results for index {index}: city {city}.\")\n",
    "    \n",
    "    # Send request to Google Places API for each city's coordinates.\n",
    "    response = requests.get(base_url, params=params).json()\n",
    "    \n",
    "    # extract results\n",
    "    results = response['results']\n",
    "    \n",
    "    try:\n",
    "        print(f\"Closest hotel in city {city} is {results[0]['name']}.\")\n",
    "        \n",
    "        # Store the first Hotel result into the DataFrame.\n",
    "        hotel_df.loc[index, 'Hotel Name'] = results[0]['name']\n",
    "    \n",
    "    except (KeyError, IndexError):\n",
    "        print(\"Missing field/result... skipping.\")\n",
    "        \n",
    "    print(\"-----------------------------------------------------------------------------------------\")\n",
    "\n",
    "# Display hotel_df\n",
    "hotel_df"
   ]
  },
  {
   "cell_type": "code",
   "execution_count": 8,
   "metadata": {},
   "outputs": [],
   "source": [
    "# NOTE: Do not change any of the code in this cell\n",
    "\n",
    "# Using the template add the hotel marks to the heatmap\n",
    "info_box_template = \"\"\"\n",
    "<dl>\n",
    "<dt>Name</dt><dd>{Hotel Name}</dd>\n",
    "<dt>City</dt><dd>{City}</dd>\n",
    "<dt>Country</dt><dd>{Country}</dd>\n",
    "</dl>\n",
    "\"\"\"\n",
    "# Store the DataFrame Row\n",
    "# NOTE: be sure to update with your DataFrame name\n",
    "hotel_info = [info_box_template.format(**row) for index, row in hotel_df.iterrows()]\n",
    "#locations = hotel_df[[\"Lat\", \"Lng\"]]\n",
    "locations = hotel_df[[\"Latitude\", \"Longitude\"]]"
   ]
  },
  {
   "cell_type": "code",
   "execution_count": 9,
   "metadata": {},
   "outputs": [
    {
     "data": {
      "application/vnd.jupyter.widget-view+json": {
       "model_id": "0c80d1d2f82042d39be6a14218060fd7",
       "version_major": 2,
       "version_minor": 0
      },
      "text/plain": [
       "Figure(layout=FigureLayout(height='420px'))"
      ]
     },
     "metadata": {},
     "output_type": "display_data"
    }
   ],
   "source": [
    "# Assign the marker layer to a variable\n",
    "markers = gmaps.marker_layer(locations)\n",
    "\n",
    "# Create symbol layer. hotel_info has the hotel name, city and country \n",
    "hotel_layer = gmaps.symbol_layer(  locations\n",
    "                                 , fill_color='rgba(0, 150, 0, 0.4)'\n",
    "                                 , stroke_color='rgba(0, 0, 150, 0.4)'\n",
    "                                 , scale=2\n",
    "                                 , info_box_content=hotel_info\n",
    ")\n",
    "\n",
    "#Plot markers on top of the heatmap.\n",
    "fig = gmaps.figure()\n",
    "\n",
    "fig.add_layer(markers)\n",
    "fig.add_layer(hotel_layer)\n",
    "\n",
    "# Display figure\n",
    "fig"
   ]
  },
  {
   "cell_type": "code",
   "execution_count": null,
   "metadata": {},
   "outputs": [],
   "source": []
  },
  {
   "cell_type": "code",
   "execution_count": null,
   "metadata": {},
   "outputs": [],
   "source": []
  }
 ],
 "metadata": {
  "kernelspec": {
   "display_name": "Python 3 (ipykernel)",
   "language": "python",
   "name": "python3"
  },
  "language_info": {
   "codemirror_mode": {
    "name": "ipython",
    "version": 3
   },
   "file_extension": ".py",
   "mimetype": "text/x-python",
   "name": "python",
   "nbconvert_exporter": "python",
   "pygments_lexer": "ipython3",
   "version": "3.8.13"
  },
  "latex_envs": {
   "LaTeX_envs_menu_present": true,
   "autoclose": false,
   "autocomplete": true,
   "bibliofile": "biblio.bib",
   "cite_by": "apalike",
   "current_citInitial": 1,
   "eqLabelWithNumbers": true,
   "eqNumInitial": 1,
   "hotkeys": {
    "equation": "Ctrl-E",
    "itemize": "Ctrl-I"
   },
   "labels_anchors": false,
   "latex_user_defs": false,
   "report_style_numbering": false,
   "user_envs_cfg": false
  }
 },
 "nbformat": 4,
 "nbformat_minor": 4
}
